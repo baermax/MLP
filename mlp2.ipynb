{
  "nbformat": 4,
  "nbformat_minor": 0,
  "metadata": {
    "colab": {
      "name": "mlp2.ipynb",
      "provenance": [],
      "collapsed_sections": [],
      "authorship_tag": "ABX9TyPJUOHTO6wafrDr0+vJaYOG",
      "include_colab_link": true
    },
    "kernelspec": {
      "name": "python3",
      "display_name": "Python 3"
    },
    "language_info": {
      "name": "python"
    }
  },
  "cells": [
    {
      "cell_type": "markdown",
      "metadata": {
        "id": "view-in-github",
        "colab_type": "text"
      },
      "source": [
        "<a href=\"https://colab.research.google.com/github/adminatgithub/MLP/blob/main/mlp2.ipynb\" target=\"_parent\"><img src=\"https://colab.research.google.com/assets/colab-badge.svg\" alt=\"Open In Colab\"/></a>"
      ]
    },
    {
      "cell_type": "code",
      "execution_count": null,
      "metadata": {
        "id": "EhLaDI9IAH5Q"
      },
      "outputs": [],
      "source": [
        "import numpy as np\n",
        "\n",
        "class FullyConnectedLayer:\n",
        "  def __init__(self, inputs, outputs):\n",
        "    self.inputs = inputs\n",
        "    self.outputs = outputs\n",
        "    self.weight = np.random.rand(outputs, inputs)\n",
        "    self.bias = np.zeros((outputs, 1))\n",
        "    self.x = None\n",
        "    self.y = None\n",
        "    self.trainable = True\n",
        "\n",
        "  def forward(self, x):\n",
        "    self.x = x\n",
        "    self.y = np.dot(self.weight, x) + self.bias\n",
        "    return self.y\n",
        "\n",
        "  def dy_dw(self):\n",
        "    return self.x.T\n",
        "\n",
        "class InputLayer:\n",
        "  def __init__(self):\n",
        "    self.x = None\n",
        "    self.y = None\n",
        "    self.trainable = False\n",
        "\n",
        "  def forward(self, x):\n",
        "    self.x = self.y = x\n",
        "    return self.y\n",
        "\n",
        "  def dy_dx(self):\n",
        "    return self.x\n",
        "\n",
        "class Sigmoid:\n",
        "  def __init__(self):\n",
        "    self.x = None\n",
        "    self.y = None\n",
        "    self.trainable = False\n",
        "\n",
        "  def forward(self, x):\n",
        "    self.x = x\n",
        "    self.y = 1 / (np.exp(-x))\n",
        "    return self.y\n",
        "\n",
        "  def dy_dx(self):\n",
        "    return (1-self.y)*self.y\n",
        "\n",
        "    "
      ]
    },
    {
      "cell_type": "code",
      "source": [
        "f = FullyConnectedLayer(3, 1)\n",
        "f.forward(np.ones((3,1)))\n",
        "f.dy_dw().shape"
      ],
      "metadata": {
        "colab": {
          "base_uri": "https://localhost:8080/"
        },
        "id": "lPwNqpJiBPYM",
        "outputId": "8eb991df-0041-452d-d911-c1b216b659c2"
      },
      "execution_count": null,
      "outputs": [
        {
          "output_type": "execute_result",
          "data": {
            "text/plain": [
              "(1, 3)"
            ]
          },
          "metadata": {},
          "execution_count": 86
        }
      ]
    },
    {
      "cell_type": "code",
      "source": [
        "class MLP:\n",
        "  def __init__(self, layers):\n",
        "    self.layers = layers\n",
        "\n",
        "  def forward(self, x):\n",
        "    out = x\n",
        "    for l in self.layers:\n",
        "      out = l.forward(out)\n",
        "    return out\n",
        "\n",
        "  def error(self, y):\n",
        "    return self.layers[-1].y - y\n",
        "\n",
        "\n",
        "  def back(self, y):\n",
        "    dL_dy = self.error(y)\n",
        "    for i in reversed(range(1, len(self.layers))):\n",
        "\n",
        "      if self.layers[i].trainable:\n",
        "        dy_dw = self.layers[i].dy_dw()\n",
        "        dW =  np.dot(dL_dy, dy_dw)\n",
        "        self.layers[i].weight += dW\n",
        "\n",
        "        dL_dy = np.dot(self.layers[i].weight.T, dL_dy)\n",
        "        #dB = dL_dy\n",
        "        #self.layers[i].bias += dB\n",
        "        \n",
        "      \n",
        "      else:\n",
        "        dL_dy = dL_dy * self.layers[i].dy_dx()\n",
        "        \n",
        "        \n"
      ],
      "metadata": {
        "id": "FSevASNKBWGr"
      },
      "execution_count": null,
      "outputs": []
    },
    {
      "cell_type": "code",
      "source": [
        "layers = [\n",
        "    InputLayer(),\n",
        "    FullyConnectedLayer(4,3),\n",
        "    Sigmoid(),\n",
        "    FullyConnectedLayer(3,2),\n",
        "    Sigmoid()\n",
        "\n",
        "    ]\n",
        "\n",
        "mlp = MLP(layers)\n",
        "mlp.forward(np.ones((4,1)))\n",
        "y = np.ones((2,1))\n",
        "mlp.back(y)"
      ],
      "metadata": {
        "id": "bzkXIqwaCHSu"
      },
      "execution_count": null,
      "outputs": []
    },
    {
      "cell_type": "code",
      "source": [
        ""
      ],
      "metadata": {
        "id": "BBQ_Fks5CaCL"
      },
      "execution_count": null,
      "outputs": []
    }
  ]
}